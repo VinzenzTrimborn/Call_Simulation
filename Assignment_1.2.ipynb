{
 "cells": [
  {
   "cell_type": "markdown",
   "metadata": {},
   "source": [
    "# Assignment 1\n",
    "## Simulation of a Cellular Telephony Network\n",
    "### Problem Statement\n",
    "The telecommunication company XPhone has been receiving complaints from its subscribers regarding quality of service (QoS) along a 40 km long highway connecting two major cities. The highway is covered by its cellular telephony network. The company needs to decide whether or not its system guarantees quality of service (QoS) in terms of percentages of dropped calls and blocked calls. Some measurements have been made of the traffic in the network on the highway. Our task is to model and simulate the system to determine whether the system can meet the quality of service requirements, and if so, which fixed channel allocation scheme offers the best service.\n",
    "\n",
    "### QoS Requirements\n",
    "+ blocked calls < 2%\n",
    "+ dropped calls < 1%\n",
    "\n",
    "### System Description\n",
    "The two-way highway is 40 km long. The company uses 20 base stations, each covers a cell with 2 km diameter. There is no overlapping of cells. Where the reach of one base station ends, the reach of the next base station starts. Each base station has 10 channels so there are 10 channels available in each cell.\n",
    "When a subscriber initiates a call from within a cell, a channel in the cell will be allocated to the call. If no free channels are available in the base station, the call is blocked. When a subscriber making a call crosses a cell boundary before the end of the 40-km highway, the channel being used in the current cell is released and a new channel in the new cell has to be acquired: this is called a **Handover**. If a channel is not available in the new base station during a handover the call is dropped. When a subscriber making a call crosses the end of the 40-km highway (either end), the call will be terminated and the channel being used is released.\n",
    "\n",
    "A Fixed Channel Allocation (FCA) scheme is used. The company wants us to test at least two FCA schemes:\n",
    "+ No channel reservation\n",
    "+ 9 channels are allocated to each cell for new calls and handovers and 1 channel is reserved for handovers when the other 9 channels are not available. This means a new call will not be allocated a channel if there is only one free channel left.\n",
    "\n",
    "**The company has provided the following measurements:**\n",
    "+ Call initiation times and their first base stations\n",
    "+ Call durations\n",
    "+ Car speeds\n",
    "\n",
    "**Assumptions**\n",
    "+ The traffic volumes in the two directions are the same. This means the two directions of cars travelling along the highway have equal probabilities.\n",
    "+ A car maintains the same speed during a call.\n",
    "+ The position of the car initiating a call in a cell is uniformly distributed along the section of the highway covered by the base station."
   ]
  },
  {
   "cell_type": "markdown",
   "metadata": {},
   "source": [
    "## Outline\n",
    "\n",
    "In the following we are going to analyse the data to find what distributions the inter-arrival times of calls, the locations where calls are generated, the call durations, and car speeds follow respectively. In addition, we also need to find the parameter values of these distributions.\n",
    "\n",
    "After that we are going to develop a discrete-event simulator.\n",
    "\n",
    "In the end, we are going to run our simulator multiple times, each with a warm-up period for different FCA\n",
    "schemes to investigate how handover reservation scheme may affect the quality of service (i.e., blocking and dropping probabilities).\n",
    "\n",
    "**We are going to answer the following question:**\n",
    "+ Is the current system able to meet the quality of service requirements and if so how many channels should be reserved for handover for best service?"
   ]
  },
  {
   "cell_type": "code",
   "execution_count": 1,
   "metadata": {},
   "outputs": [],
   "source": [
    "from heapq import *\n",
    "import xlrd\n",
    "import random\n",
    "import numpy as np\n",
    "import matplotlib.pyplot as plt\n",
    "from scipy.stats import norm\n",
    "from scipy.stats import poisson\n",
    "from scipy.stats import expon\n",
    "\n",
    "file = (\"PCS_TEST_DETERMINSTIC_19S2.xls\") #file of the measurements provided"
   ]
  },
  {
   "cell_type": "markdown",
   "metadata": {},
   "source": [
    "## Investigate Data"
   ]
  },
  {
   "cell_type": "markdown",
   "metadata": {},
   "source": [
    "### Extract Data"
   ]
  },
  {
   "cell_type": "code",
   "execution_count": 2,
   "metadata": {},
   "outputs": [],
   "source": [
    "def extractData(file):\n",
    "    initationTimes = []\n",
    "    baseStations = []\n",
    "    durations = []\n",
    "    velocities = []\n",
    "    \n",
    "    wb = xlrd.open_workbook(file) \n",
    "    sheet = wb.sheet_by_index(0) \n",
    "    for i in range(1, sheet.nrows):\n",
    "        row=sheet.row_values(i)\n",
    "        initiationTime=row[1]\n",
    "        baseStation=int(row[2])-1 #We use indexing from 0 instead from 1\n",
    "        duration=row[3]\n",
    "        speed=row[4]\n",
    "\n",
    "        initationTimes.append(initiationTime)\n",
    "        baseStations.append(baseStation)\n",
    "        durations.append(duration)\n",
    "        velocities.append(speed)\n",
    "    \n",
    "    return initationTimes, baseStations, durations, velocities"
   ]
  },
  {
   "cell_type": "code",
   "execution_count": 3,
   "metadata": {},
   "outputs": [],
   "source": [
    "initationTimes, baseStations, durations, velocities = extractData(file)"
   ]
  },
  {
   "cell_type": "markdown",
   "metadata": {},
   "source": [
    "### I) Call Interarrival Time Distribution"
   ]
  },
  {
   "cell_type": "markdown",
   "metadata": {},
   "source": [
    "#### Step 1: Investigate Data Collection\n",
    "At first we take a look at the measured interarrival times. Is the data IID?\n",
    "To proof that one call does not, for example, trigger other calls we use a scatter diagramm to asses whether the data points are independent. After that we plot the data to see if it is identically distributed."
   ]
  },
  {
   "cell_type": "code",
   "execution_count": 4,
   "metadata": {},
   "outputs": [],
   "source": [
    "def getInterarrivalTimes(initationTimes):\n",
    "    interarrivalTimes = []\n",
    "    for i in range(1,len(initationTimes)):\n",
    "        interarrivalTime = initationTimes[i]-initationTimes[i-1]\n",
    "        interarrivalTimes.append(interarrivalTime)\n",
    "    return interarrivalTimes"
   ]
  },
  {
   "cell_type": "code",
   "execution_count": 5,
   "metadata": {},
   "outputs": [],
   "source": [
    "def createTupel(array):\n",
    "    x = []\n",
    "    y = []\n",
    "    for i in range(1,len(array)):\n",
    "        x.append(array[i-1])\n",
    "        y.append(array[i])\n",
    "    return x, y"
   ]
  },
  {
   "cell_type": "code",
   "execution_count": 6,
   "metadata": {},
   "outputs": [],
   "source": [
    "interarrivalTimes = getInterarrivalTimes(initationTimes)\n",
    "x, y = createTupel(interarrivalTimes)"
   ]
  },
  {
   "cell_type": "code",
   "execution_count": 7,
   "metadata": {},
   "outputs": [
    {
     "data": {
      "image/png": "[encoded data removed]",
      "text/plain": [
       "<Figure size 432x288 with 1 Axes>"
      ]
     },
     "metadata": {
      "needs_background": "light"
     },
     "output_type": "display_data"
    }
   ],
   "source": [
    "x, y = createTupel(interarrivalTimes)\n",
    "plt.scatter(x,y)\n",
    "plt.show()"
   ]
  },
  {
   "cell_type": "markdown",
   "metadata": {},
   "source": [
    "The data points are scattered throughout the first quarter. This indicates that the data is independent."
   ]
  },
  {
   "cell_type": "code",
   "execution_count": 8,
   "metadata": {},
   "outputs": [
    {
     "data": {
      "image/png": "[encoded data removed]",
      "text/plain": [
       "<Figure size 432x288 with 1 Axes>"
      ]
     },
     "metadata": {
      "needs_background": "light"
     },
     "output_type": "display_data"
    }
   ],
   "source": [
    "plt.plot(interarrivalTimes)\n",
    "plt.show()"
   ]
  },
  {
   "cell_type": "markdown",
   "metadata": {},
   "source": [
    "The data semes to be identical distributed as well. There are no major diffrences we can identify. We assume that the data is IID."
   ]
  },
  {
   "cell_type": "markdown",
   "metadata": {},
   "source": [
    "#### Step 2: Identify A Family Of Distributions\n",
    "This step typically beginns with the development of a histogram. We break the range of data into k intervals of equal widths. Hines et al. [2002] state that k equal to the square root of the number of data items is a good approximation of k. Since we have 9999 data points we go with k = 100."
   ]
  },
  {
   "cell_type": "code",
   "execution_count": 9,
   "metadata": {},
   "outputs": [],
   "source": [
    "k=100"
   ]
  },
  {
   "cell_type": "code",
   "execution_count": 10,
   "metadata": {},
   "outputs": [
    {
     "data": {
      "image/png": "[encoded data removed]",
      "text/plain": [
       "<Figure size 432x288 with 1 Axes>"
      ]
     },
     "metadata": {
      "needs_background": "light"
     },
     "output_type": "display_data"
    }
   ],
   "source": [
    "plt.hist(interarrivalTimes,k)\n",
    "plt.xlabel('Interarrival Times (Sec)')\n",
    "plt.ylabel('Frequency')\n",
    "plt.show()"
   ]
  },
  {
   "cell_type": "markdown",
   "metadata": {},
   "source": [
    "We hypothesize the data has an exponential distribution."
   ]
  },
  {
   "cell_type": "markdown",
   "metadata": {},
   "source": [
    "#### Step 3: Estimation of the mean for the exponential distribution"
   ]
  },
  {
   "cell_type": "code",
   "execution_count": 11,
   "metadata": {},
   "outputs": [
    {
     "name": "stdout",
     "output_type": "stream",
     "text": [
      "Expo(1.3698169264765245)\n"
     ]
    }
   ],
   "source": [
    "meanCallInterarrival = sum(interarrivalTimes)/len(interarrivalTimes)\n",
    "print(\"Expo({})\".format(meanCallInterarrival))"
   ]
  },
  {
   "cell_type": "markdown",
   "metadata": {},
   "source": [
    "#### Step 4: Goodness-of-fit test of selected distribution"
   ]
  },
  {
   "cell_type": "markdown",
   "metadata": {},
   "source": [
    "We use the chi-square test to test the hypothesis that these call interarrival times are exponentially distributed.\n",
    "To calculated the end points of the intervalls, we use the percent point function (ppf) of the scipy libary."
   ]
  },
  {
   "cell_type": "code",
   "execution_count": 12,
   "metadata": {},
   "outputs": [],
   "source": [
    "def calExpInterall(mean,k):\n",
    "    classIntervall = [0]\n",
    "    for i in range(1,k):\n",
    "        ai=expon.ppf(i/k,scale=mean)\n",
    "        classIntervall.append(ai)\n",
    "    return classIntervall"
   ]
  },
  {
   "cell_type": "code",
   "execution_count": 13,
   "metadata": {},
   "outputs": [],
   "source": [
    "def chiSquare(intervall,data,k):\n",
    "    a = [0]*k\n",
    "    for d in data:\n",
    "        for v in range(k-1,-1,-1):\n",
    "            if d>=intervall[v]:\n",
    "                a[v]=a[v]+1\n",
    "                break\n",
    "    x2=0\n",
    "    for i in range(k):\n",
    "        npj=(1/k)*len(data)\n",
    "        x2+=((a[i]-npj)*(a[i]-npj))/npj\n",
    "    return x2"
   ]
  },
  {
   "cell_type": "code",
   "execution_count": 14,
   "metadata": {},
   "outputs": [
    {
     "data": {
      "text/plain": [
       "111.66106610661065"
      ]
     },
     "execution_count": 14,
     "metadata": {},
     "output_type": "execute_result"
    }
   ],
   "source": [
    "expIntervall=calExpInterall(meanCallInterarrival,k)\n",
    "chiSquare(expIntervall,interarrivalTimes,k)"
   ]
  },
  {
   "cell_type": "markdown",
   "metadata": {},
   "source": [
    "So the test statistic is X2=111.66. The degree of freedom of the chi-square distribution is k-s-1. s is the number of parameter of the hypothesized distribution estimated by the sample data. For the exponential distribution s=1.\n",
    "**Degree of Freedom: 98** \n",
    "We set our level of significance: **a=0.01**, the critical value for the x2 distribution is **133.476**.\n",
    "Since X2<133.476 the **hypothesis can be accepted**. Thus the hypothesised exponential distribution expo(1.3698169264765245) does fit the data well."
   ]
  },
  {
   "cell_type": "markdown",
   "metadata": {},
   "source": [
    "### II) Call Duration Distribution"
   ]
  },
  {
   "cell_type": "markdown",
   "metadata": {},
   "source": [
    "We will take the same steps as before: \n",
    "#### Step 1: Investigate Data Collection"
   ]
  },
  {
   "cell_type": "code",
   "execution_count": 15,
   "metadata": {},
   "outputs": [
    {
     "data": {
      "image/png": "[encoded data removed]",
      "text/plain": [
       "<Figure size 432x288 with 1 Axes>"
      ]
     },
     "metadata": {
      "needs_background": "light"
     },
     "output_type": "display_data"
    }
   ],
   "source": [
    "x, y = createTupel(durations)\n",
    "plt.scatter(x,y)\n",
    "plt.show()"
   ]
  },
  {
   "cell_type": "code",
   "execution_count": 16,
   "metadata": {},
   "outputs": [
    {
     "data": {
      "image/png": "[encoded data removed]",
      "text/plain": [
       "<Figure size 432x288 with 1 Axes>"
      ]
     },
     "metadata": {
      "needs_background": "light"
     },
     "output_type": "display_data"
    }
   ],
   "source": [
    "plt.plot(durations)\n",
    "plt.show()"
   ]
  },
  {
   "cell_type": "markdown",
   "metadata": {},
   "source": [
    "The data points are scattered throughout the first quarter. This indicates that the data is independent. The data sems to be identical distributed as well. We assume that the data is IID.\n",
    "\n",
    "#### Step 2: Identify A Family Of Distributions"
   ]
  },
  {
   "cell_type": "code",
   "execution_count": 17,
   "metadata": {},
   "outputs": [
    {
     "data": {
      "image/png": "[encoded data removed]",
      "text/plain": [
       "<Figure size 432x288 with 1 Axes>"
      ]
     },
     "metadata": {
      "needs_background": "light"
     },
     "output_type": "display_data"
    }
   ],
   "source": [
    "c = plt.hist(durations,k)\n",
    "plt.xlabel('Duration (sec)')\n",
    "plt.ylabel('Frequency')\n",
    "plt.show()"
   ]
  },
  {
   "cell_type": "code",
   "execution_count": 18,
   "metadata": {},
   "outputs": [
    {
     "name": "stdout",
     "output_type": "stream",
     "text": [
      "Minimum: 10.003951603252272\n"
     ]
    }
   ],
   "source": [
    "print(\"Minimum: {}\".format(min(durations)))"
   ]
  },
  {
   "cell_type": "markdown",
   "metadata": {},
   "source": [
    "From the histogram we notice that there are no calls close to 0. The minimal time for a call is 10 sec. To fit a distribution to the data we assume that **a call lasts at least 10 sec** and that the remaining time has an exponential distribution."
   ]
  },
  {
   "cell_type": "markdown",
   "metadata": {},
   "source": [
    "#### Step 3: Estimation of the mean for the exponential distribution"
   ]
  },
  {
   "cell_type": "code",
   "execution_count": 19,
   "metadata": {},
   "outputs": [],
   "source": [
    "remainingTime=[x-10 for x in durations]"
   ]
  },
  {
   "cell_type": "code",
   "execution_count": 20,
   "metadata": {},
   "outputs": [
    {
     "name": "stdout",
     "output_type": "stream",
     "text": [
      "Expo(99.83590073874737)\n"
     ]
    }
   ],
   "source": [
    "meanCallDuration = sum(remainingTime)/len(remainingTime)\n",
    "print(\"Expo({})\".format(meanCallDuration))"
   ]
  },
  {
   "cell_type": "markdown",
   "metadata": {},
   "source": [
    "#### Step 4: Goodness-of-fit test of selected distribution\n",
    "We use the chi-square test to test the hypothesis that these call interarrival times are exponentially distributed."
   ]
  },
  {
   "cell_type": "code",
   "execution_count": 21,
   "metadata": {},
   "outputs": [
    {
     "data": {
      "text/plain": [
       "95.91999999999999"
      ]
     },
     "execution_count": 21,
     "metadata": {},
     "output_type": "execute_result"
    }
   ],
   "source": [
    "expIntervall=calExpInterall(meanCallDuration,k)\n",
    "chiSquare(expIntervall,remainingTime,k)"
   ]
  },
  {
   "cell_type": "markdown",
   "metadata": {},
   "source": [
    "So the test statistic is X2=95.9. The degree of freedom of the chi-square distribution **98**. We set our level of significance: **a=0.01**, the critical value is **134.642**. Since X2<134.642 the **hypothesis can be accepted**. Thus the hypothesised exponential distribution does fit the data well."
   ]
  },
  {
   "cell_type": "markdown",
   "metadata": {},
   "source": [
    "### III) Velocity Distribution\n",
    "#### Step 1: Investigate Data Collection"
   ]
  },
  {
   "cell_type": "code",
   "execution_count": 22,
   "metadata": {},
   "outputs": [
    {
     "data": {
      "image/png": "[encoded data removed]",
      "text/plain": [
       "<Figure size 432x288 with 1 Axes>"
      ]
     },
     "metadata": {
      "needs_background": "light"
     },
     "output_type": "display_data"
    }
   ],
   "source": [
    "x, y = createTupel(velocities)\n",
    "plt.scatter(x,y)\n",
    "plt.show()"
   ]
  },
  {
   "cell_type": "code",
   "execution_count": 23,
   "metadata": {},
   "outputs": [
    {
     "data": {
      "image/png": "[encoded data removed]",
      "text/plain": [
       "<Figure size 432x288 with 1 Axes>"
      ]
     },
     "metadata": {
      "needs_background": "light"
     },
     "output_type": "display_data"
    }
   ],
   "source": [
    "plt.plot(velocities)\n",
    "plt.show()"
   ]
  },
  {
   "cell_type": "markdown",
   "metadata": {},
   "source": [
    "By looking at the scatter plot and the plot of the data we see that most of the data is around 120. We assume that the data is IID."
   ]
  },
  {
   "cell_type": "markdown",
   "metadata": {},
   "source": [
    "#### Step 2: Identify A Family Of Distributions"
   ]
  },
  {
   "cell_type": "code",
   "execution_count": 24,
   "metadata": {},
   "outputs": [
    {
     "data": {
      "image/png": "[encoded data removed]",
      "text/plain": [
       "<Figure size 432x288 with 1 Axes>"
      ]
     },
     "metadata": {
      "needs_background": "light"
     },
     "output_type": "display_data"
    }
   ],
   "source": [
    "plt.hist(velocities,k)\n",
    "plt.xlabel('Velocity')\n",
    "plt.ylabel('Frequency')\n",
    "plt.show()"
   ]
  },
  {
   "cell_type": "markdown",
   "metadata": {},
   "source": [
    "We hypothesize the data has a normal distribution."
   ]
  },
  {
   "cell_type": "markdown",
   "metadata": {},
   "source": [
    "#### Step 3: Estimation of the parameters of a normal distribution"
   ]
  },
  {
   "cell_type": "code",
   "execution_count": 25,
   "metadata": {},
   "outputs": [
    {
     "name": "stdout",
     "output_type": "stream",
     "text": [
      "N(120.07209801685764, 81.33527102508032)\n"
     ]
    }
   ],
   "source": [
    "meanVelocity =np.mean(velocities)\n",
    "stdVelocity=np.std(velocities)\n",
    "print(\"N({}, {})\".format(meanVelocity,stdVelocity**2))"
   ]
  },
  {
   "cell_type": "markdown",
   "metadata": {},
   "source": [
    "#### Step 4: Goodness-of-fit test of selected distribution¶"
   ]
  },
  {
   "cell_type": "code",
   "execution_count": 26,
   "metadata": {},
   "outputs": [],
   "source": [
    "def calNormInterall(mean,std,k):\n",
    "    classIntervall = [0]\n",
    "    for i in range(1,k):\n",
    "        ai=norm.ppf(i/k,mean,std)\n",
    "        classIntervall.append(ai)\n",
    "    return classIntervall"
   ]
  },
  {
   "cell_type": "code",
   "execution_count": 27,
   "metadata": {},
   "outputs": [
    {
     "data": {
      "text/plain": [
       "96.44"
      ]
     },
     "execution_count": 27,
     "metadata": {},
     "output_type": "execute_result"
    }
   ],
   "source": [
    "normIntervall=calNormInterall(meanVelocity,stdVelocity,k)\n",
    "chiSquare(normIntervall,velocities,k)"
   ]
  },
  {
   "cell_type": "markdown",
   "metadata": {},
   "source": [
    "So the test statistic is X2=96.44. The degree of freedom of the chi-square distribution is k-s-1. For a normal distribution s=2. So the **degree of freedom is 97**. We set our **level of significants at a=0.01**, the critical value is **132.309**. Since X2<132.309 the **hypothesis can be accepted**. Thus the hypothesised normal distribution does fit the data well."
   ]
  },
  {
   "cell_type": "markdown",
   "metadata": {},
   "source": [
    "### IV) Base Station Distribution\n",
    "#### Step 1: Investigate Data Collection\n",
    "We know that we have 20 diffrent stations and that calls are handovered to the next cell left or right. "
   ]
  },
  {
   "cell_type": "code",
   "execution_count": 28,
   "metadata": {},
   "outputs": [
    {
     "data": {
      "image/png": "[encoded data removed]",
      "text/plain": [
       "<Figure size 432x288 with 1 Axes>"
      ]
     },
     "metadata": {
      "needs_background": "light"
     },
     "output_type": "display_data"
    }
   ],
   "source": [
    "x, y = createTupel(baseStations)\n",
    "plt.scatter(x,y)\n",
    "plt.show()"
   ]
  },
  {
   "cell_type": "code",
   "execution_count": 29,
   "metadata": {},
   "outputs": [
    {
     "data": {
      "image/png": "[encoded data removed]",
      "text/plain": [
       "<Figure size 432x288 with 1 Axes>"
      ]
     },
     "metadata": {
      "needs_background": "light"
     },
     "output_type": "display_data"
    }
   ],
   "source": [
    "plt.plot(baseStations)\n",
    "plt.show()"
   ]
  },
  {
   "cell_type": "markdown",
   "metadata": {},
   "source": [
    "By looking at the scatter plot and the plot of the data we see already that the data has a normal distribution. We assume that the data is IID.\n",
    "#### Step 2: Identify A Family Of Distributions"
   ]
  },
  {
   "cell_type": "code",
   "execution_count": 30,
   "metadata": {},
   "outputs": [
    {
     "data": {
      "image/png": "[encoded data removed]",
      "text/plain": [
       "<Figure size 432x288 with 1 Axes>"
      ]
     },
     "metadata": {
      "needs_background": "light"
     },
     "output_type": "display_data"
    }
   ],
   "source": [
    "plt.hist(baseStations,20,[1,21])\n",
    "plt.xlabel('Station')\n",
    "plt.ylabel('Frequency')\n",
    "plt.show()"
   ]
  },
  {
   "cell_type": "markdown",
   "metadata": {},
   "source": [
    "We hypothesize the data has an uniform distribution U(1,20). We use the chi-square test to test the hypothesis. Since we only have 20 stations it is clear that k=20."
   ]
  },
  {
   "cell_type": "markdown",
   "metadata": {},
   "source": [
    "#### Step 3: Goodness-of-fit test of selected distribution"
   ]
  },
  {
   "cell_type": "code",
   "execution_count": 31,
   "metadata": {},
   "outputs": [
    {
     "data": {
      "text/plain": [
       "25.656"
      ]
     },
     "execution_count": 31,
     "metadata": {},
     "output_type": "execute_result"
    }
   ],
   "source": [
    "uniformIntervall=[x for x in range(20)]\n",
    "chiSquare(uniformIntervall,baseStations,20)"
   ]
  },
  {
   "cell_type": "markdown",
   "metadata": {},
   "source": [
    "So the test statistic is X2=25.656. The degree of freedom of the chi-square distribution is k-s-1. For a uniform distribution s=1. So the degree of freedom is **18**. We set our level of significants at **a=0.01**, the critical value is **34.805**. Since X2<34.805 the **hypothesis can be accepted**. Thus the hypothesised normal distribution U(1,20) does fit the data well."
   ]
  },
  {
   "cell_type": "markdown",
   "metadata": {},
   "source": [
    "## Warm up periode of simulation\n",
    "\n",
    "To determine the lenght of the warm up periode of the simulation, we want to find out the average number of new calls in a short time periode from the meassured data."
   ]
  },
  {
   "cell_type": "code",
   "execution_count": 32,
   "metadata": {},
   "outputs": [
    {
     "name": "stdout",
     "output_type": "stream",
     "text": [
      "Mean: 100.0\n"
     ]
    },
    {
     "data": {
      "image/png": "[encoded data removed]",
      "text/plain": [
       "<Figure size 432x288 with 1 Axes>"
      ]
     },
     "metadata": {
      "needs_background": "light"
     },
     "output_type": "display_data"
    }
   ],
   "source": [
    "a=plt.hist(initationTimes,100)\n",
    "print(\"Mean: {}\".format(np.mean(a[0])))"
   ]
  },
  {
   "cell_type": "markdown",
   "metadata": {},
   "source": [
    "We seperate the initation times of the calls in k=100 buckets. Since the last call initation time is at second 13697, the intervalls have a lenght of about 137 seconds. When we now calculate the mean amount of calls in one bucket we get 100. In avergae there are about 100 initation calls in 137 sec. \n",
    "\n",
    "**For our simulation the warm up periode will end, when we reach an interval i * 137 sec where in its time periode appear more than 100 calls.**"
   ]
  },
  {
   "cell_type": "code",
   "execution_count": 33,
   "metadata": {},
   "outputs": [],
   "source": [
    "def CheckWarmUp(call):\n",
    "    global initiatedCalls\n",
    "    global warmUp\n",
    "    \n",
    "    if warmUp:\n",
    "        for e in initiatedCalls: #check if there is already an intervall with 100 calls\n",
    "            if e>=100:\n",
    "                warmUp=False\n",
    "                report.write(\"Time: \" + str(currentTime) + \" Warm Up periode is over\" + \"\\n\")\n",
    "    \n",
    "    i = int(call.time/137) #put call in intervall of lenght 137\n",
    "    \n",
    "    while i >= len(initiatedCalls): #make a new intervall\n",
    "        initiatedCalls.append(0)\n",
    "    initiatedCalls[i]+=1"
   ]
  },
  {
   "cell_type": "markdown",
   "metadata": {},
   "source": [
    "## Events:\n",
    "There are 3 types of Events that are handled by the simulator:\n",
    "\n",
    "Call initiation [time, speed, station, position, duration, direction]\n",
    "\n",
    "Call termination [time, station]\n",
    "\n",
    "Call handover [time, speed, station, duration, direction]"
   ]
  },
  {
   "cell_type": "code",
   "execution_count": 34,
   "metadata": {},
   "outputs": [],
   "source": [
    "class Event:\n",
    "    def __gt__(self, other):\n",
    "        return self.time > other.time\n",
    "\n",
    "class InitiationEvent(Event):\n",
    "    def __init__(self,time,speed,station,position,duration,direction):\n",
    "        self.time = time\n",
    "        self.speed = speed\n",
    "        self.station = station\n",
    "        self.position = position\n",
    "        self.duration = duration\n",
    "        self.direction = direction\n",
    "        \n",
    "class TerminationEvent(Event):\n",
    "    def __init__(self,time,station):\n",
    "        self.time = time\n",
    "        self.station = station\n",
    "        \n",
    "class HandoverEvent(Event):\n",
    "    def __init__(self,time,speed,station,duration,direction):\n",
    "        self.time = time\n",
    "        self.speed = speed\n",
    "        self.station = station\n",
    "        self.duration = duration\n",
    "        self.direction = direction"
   ]
  },
  {
   "cell_type": "markdown",
   "metadata": {},
   "source": [
    "## Code for generation random calls\n",
    "\n",
    "Assumptions:\n",
    "\n",
    "(a) The traffic volumes in the two directions are the same.  This means the two directions of \n",
    "cars travelling along the highway have equal probabilities. \n",
    "\n",
    "(b) A car maintains the same speed during a call.   \n",
    "\n",
    "(c) The position of the car initiating a call in a cell is uniformly distributed along the section \n",
    "of the highway covered by the base station. "
   ]
  },
  {
   "cell_type": "code",
   "execution_count": 35,
   "metadata": {},
   "outputs": [],
   "source": [
    "def genRandomCall():\n",
    "    callInterarrivalTime=np.random.exponential(meanCallInterarrival)\n",
    "    initiationTime=currentTime+callInterarrivalTime\n",
    "    \n",
    "    duration=10.0+np.random.exponential(meanCallDuration)\n",
    "    \n",
    "    speed=np.random.normal(meanVelocity,stdVelocity)\n",
    "    \n",
    "    baseStation=random.randint(1,20)-1 #returns integer from the discret uniform distribution\n",
    "    #we use indexing from 0 insted from 1\n",
    "        \n",
    "    position=random.uniform(0,2)\n",
    "    direction=int((-1)**random.randint(-1,0)) #-1 for going west, 1 for going east\n",
    "        \n",
    "    callInitiationEvent=InitiationEvent(initiationTime,speed,baseStation,position,duration,direction)\n",
    "    heappush(eventHeap, callInitiationEvent)"
   ]
  },
  {
   "cell_type": "markdown",
   "metadata": {},
   "source": [
    "## Event Handling Functions"
   ]
  },
  {
   "cell_type": "code",
   "execution_count": 36,
   "metadata": {},
   "outputs": [],
   "source": [
    "def initiationEventHandler(event):\n",
    "    if stations[event.station]<channelsForNewCalls:\n",
    "        stations[event.station]+=1\n",
    "        \n",
    "        report.write(\"Event Time: \" + str(event.time) + \" Call started in station \" + str(event.station+1)+\"\\n\")\n",
    "        \n",
    "        computeNextEvent(event)\n",
    "        \n",
    "    else:\n",
    "        report.write(\"Event Time: \" + str(event.time) + \" Call blocked in station \" + str(event.station+1)+\"\\n\")\n",
    "        \n",
    "        if not warmUp: #If the warm up periode is over, the blocked calls are counted\n",
    "            global callsBlocked\n",
    "            callsBlocked+=1\n",
    "        \n",
    "    report.write(str(stations)+\"\\n\")\n",
    "    \n",
    "    CheckWarmUp(event)\n",
    "    \n",
    "    if not warmUp:\n",
    "        global callsTotal\n",
    "        callsTotal+=1\n",
    "        \n",
    "    genRandomCall()"
   ]
  },
  {
   "cell_type": "code",
   "execution_count": 37,
   "metadata": {},
   "outputs": [],
   "source": [
    "def handoverEventHandler(event):\n",
    "    stations[event.station-event.direction]-=1\n",
    "    if stations[event.station]<10:\n",
    "        stations[event.station]+=1\n",
    "        \n",
    "        report.write(\"Event Time: \" + str(event.time) + \" Call hadover to station \" + str(event.station+1)+\"\\n\")\n",
    "        \n",
    "        computeNextEvent(event)\n",
    "    else:\n",
    "        report.write(\"Event Time: \" + str(event.time) + \" Call dropped at station \" + str(event.station+1)+\"\\n\")\n",
    "        \n",
    "        if not warmUp: #If the warm up periode is over, the dropped calls are counted\n",
    "            global callsDropped\n",
    "            callsDropped+=1\n",
    "            \n",
    "    report.write(str(stations)+\"\\n\")"
   ]
  },
  {
   "cell_type": "code",
   "execution_count": 38,
   "metadata": {},
   "outputs": [],
   "source": [
    "def terminationEventHandler(event):\n",
    "    stations[event.station]-=1\n",
    "    report.write(\"Event Time: \" + str(event.time) + \" Call terminated in station \" + str(event.station+1)+\"\\n\")\n",
    "    report.write(str(stations)+\"\\n\")"
   ]
  },
  {
   "cell_type": "markdown",
   "metadata": {},
   "source": [
    "In this function the math for computing the time of the next event happens and the new event is created and pushed onto the heap"
   ]
  },
  {
   "cell_type": "code",
   "execution_count": 39,
   "metadata": {},
   "outputs": [],
   "source": [
    "def computeNextEvent(event):\n",
    "    if isinstance(event,HandoverEvent):\n",
    "        distnanceToNextCell=2\n",
    "    else:\n",
    "        #the position relative to the station is computed\n",
    "        if event.direction == -1:\n",
    "            distnanceToNextCell=event.position\n",
    "        else:\n",
    "            distnanceToNextCell=2-event.position\n",
    "        \n",
    "    timeToNextCell=(distnanceToNextCell/event.speed)*60*60 #time is meassured in sec\n",
    "    nextStation=event.station+event.direction\n",
    "    time=currentTime+timeToNextCell\n",
    "    \n",
    "    if timeToNextCell >= event.duration: #call ends in this cell\n",
    "        teminationTime=currentTime+event.duration\n",
    "        callTerminationEvent = TerminationEvent(teminationTime,event.station)\n",
    "        heappush(eventHeap,callTerminationEvent)\n",
    "        \n",
    "    elif nextStation<0 or nextStation > 19: #car leaves the highway\n",
    "        callTerminationEvent = TerminationEvent(time,event.station)\n",
    "        heappush(eventHeap,callTerminationEvent)\n",
    "        \n",
    "    else: #call handover\n",
    "        speed = event.speed\n",
    "        duration = event.duration-timeToNextCell\n",
    "        direction = event.direction\n",
    "        callHandoverEvent = HandoverEvent(time,speed,nextStation,duration,direction)\n",
    "        heappush(eventHeap,callHandoverEvent)"
   ]
  },
  {
   "cell_type": "markdown",
   "metadata": {},
   "source": [
    "## Main simulation function"
   ]
  },
  {
   "cell_type": "code",
   "execution_count": 40,
   "metadata": {},
   "outputs": [],
   "source": [
    "def simulate(simulationTime):\n",
    "    global currentTime\n",
    "    global warmUpTime\n",
    "    genRandomCall()\n",
    "    \n",
    "    while (len(eventHeap)>0 and simulationTime+warmUpTime>currentTime):\n",
    "        event = heappop(eventHeap)\n",
    "        currentTime=event.time\n",
    "        \n",
    "        if isinstance(event,InitiationEvent):\n",
    "            initiationEventHandler(event)\n",
    "        elif isinstance(event,TerminationEvent):\n",
    "            terminationEventHandler(event)\n",
    "        else:   \n",
    "            handoverEventHandler(event)\n",
    "    report.close()"
   ]
  },
  {
   "cell_type": "markdown",
   "metadata": {},
   "source": [
    "## Running the simulation"
   ]
  },
  {
   "cell_type": "code",
   "execution_count": 41,
   "metadata": {},
   "outputs": [],
   "source": [
    "def refresh(): #Used to define and clear all simulation related variables for one run\n",
    "    global eventHeap\n",
    "    global stations\n",
    "    global currentTime\n",
    "    global callsDropped\n",
    "    global callsBlocked\n",
    "    global callsTotal\n",
    "    global report\n",
    "    global warmUp\n",
    "    global initiatedCalls\n",
    "    global warmUpTime\n",
    "    \n",
    "    eventHeap = [] #We use a heap to shedule the order of the events\n",
    "    stations = [0]*20 #Each element in the list represents one station (index 0-19) with 0-10 free channels\n",
    "    currentTime = 0.0\n",
    "    callsDropped=0 #Calls droped after warm up\n",
    "    callsBlocked=0 #Calls blocked after warm up\n",
    "    callsTotal=0 #Total calls after warm up\n",
    "    report = open(\"report.txt\", \"w\") #file for the report\n",
    "    warmUp=True\n",
    "    initiatedCalls=[] #intervall of 137 to count calls\n",
    "    warmUpTime = 0 #The time is unknown so far and will be determined by the WarmUp Methode"
   ]
  },
  {
   "cell_type": "code",
   "execution_count": 42,
   "metadata": {},
   "outputs": [],
   "source": [
    "def doNruns(n):\n",
    "\n",
    "    allDroppedCalls=[]\n",
    "    allBlockedCalls=[]\n",
    "\n",
    "    while n>0:\n",
    "        refresh()\n",
    "        simulate(simulationTime)\n",
    "        allDroppedCalls.append((callsDropped/callsTotal)*100)\n",
    "        allBlockedCalls.append((callsBlocked/callsTotal)*100)\n",
    "        n-=1\n",
    "    return allDroppedCalls, allBlockedCalls"
   ]
  },
  {
   "cell_type": "markdown",
   "metadata": {},
   "source": [
    "### FCA 10 - No reservation\n",
    "\n",
    "+ Simulation Time: 24 hours plus warm-up time\n",
    "+ 10 runs"
   ]
  },
  {
   "cell_type": "code",
   "execution_count": 43,
   "metadata": {},
   "outputs": [],
   "source": [
    "#Max open channels for new calls, depends on how many channels are reserved for Handover\n",
    "channelsForNewCalls=10\n",
    "simulationTime=60*60*24\n",
    "n=10\n",
    "ToalPercentDroppedCalls10,ToalPercentBlockedCalls10 = doNruns(n)\n",
    "TotalPercentBlockedAndDropped10 = np.array(ToalPercentDroppedCalls10)+np.array(ToalPercentBlockedCalls10)"
   ]
  },
  {
   "cell_type": "markdown",
   "metadata": {},
   "source": [
    "### FCA 9 - One channel reservated for Handover\n",
    "\n",
    "+ Simulation Time: 24 hours plus warm-up time\n",
    "+ 10 runs"
   ]
  },
  {
   "cell_type": "code",
   "execution_count": 44,
   "metadata": {},
   "outputs": [],
   "source": [
    "#Max open channels for new calls, depends on how many channels are reserved for Handover\n",
    "channelsForNewCalls=9\n",
    "simulationTime=60*60*24\n",
    "n=10\n",
    "ToalPercentDroppedCalls9,ToalPercentBlockedCalls9 = doNruns(n)\n",
    "TotalPercentBlockedAndDropped9 = np.array(ToalPercentDroppedCalls9)+np.array(ToalPercentBlockedCalls9)"
   ]
  },
  {
   "cell_type": "markdown",
   "metadata": {},
   "source": [
    "### FCA 8 - Two channel reservated for Handover\n",
    "\n",
    "+ Simulation Time: 24 hours plus warm-up time\n",
    "+ 10 runs"
   ]
  },
  {
   "cell_type": "code",
   "execution_count": 45,
   "metadata": {},
   "outputs": [],
   "source": [
    "#Max open channels for new calls, depends on how many channels are reserved for Handover\n",
    "channelsForNewCalls=8\n",
    "simulationTime=60*60*24\n",
    "n=10\n",
    "ToalPercentDroppedCalls8,ToalPercentBlockedCalls8 = doNruns(n)\n",
    "TotalPercentBlockedAndDropped8 = np.array(ToalPercentDroppedCalls8)+np.array(ToalPercentBlockedCalls8)"
   ]
  },
  {
   "cell_type": "markdown",
   "metadata": {},
   "source": [
    "## Output Analysis"
   ]
  },
  {
   "cell_type": "code",
   "execution_count": 46,
   "metadata": {},
   "outputs": [],
   "source": [
    "def calcS2(array):\n",
    "    xj=np.array(array)\n",
    "    s2=np.sum((xj-np.mean(xj))**2)/(len(xj)-1)\n",
    "    return s2\n",
    "\n",
    "def calcConfidenceInterval(array,t):\n",
    "    mean=np.mean(array)\n",
    "    s2=calcS2(array)\n",
    "    l=t*(np.sqrt(s2)/np.sqrt(n))\n",
    "    return [mean-l,mean+l], mean"
   ]
  },
  {
   "cell_type": "markdown",
   "metadata": {},
   "source": [
    "### Confidence interval \n",
    "\n",
    "We calculate the 95% confidence interval with a statistical significants of a = 0.05 to give recommendations for the FCA scheme. We expect that with a properbility of 95%, our interval captures the true population parameter."
   ]
  },
  {
   "cell_type": "code",
   "execution_count": 47,
   "metadata": {},
   "outputs": [],
   "source": [
    "t=2.262\n",
    "ConfidenceIntervalDropped10, meanDropped10=calcConfidenceInterval(ToalPercentDroppedCalls10,t)\n",
    "ConfidenceIntervalBlocked10, meanBlocked10=calcConfidenceInterval(ToalPercentBlockedCalls10,t)\n",
    "ConfidenceIntervallTotalIncidents10, meanTotal10=calcConfidenceInterval(TotalPercentBlockedAndDropped10,t)\n",
    "\n",
    "ConfidenceIntervalDropped9, meanDropped9=calcConfidenceInterval(ToalPercentDroppedCalls9,t)\n",
    "ConfidenceIntervalBlocked9, meanBlocked9=calcConfidenceInterval(ToalPercentBlockedCalls9,t)\n",
    "ConfidenceIntervallTotalIncidents9, meanTotal9=calcConfidenceInterval(TotalPercentBlockedAndDropped9,t)\n",
    "\n",
    "ConfidenceIntervalDropped8, meanDropped8=calcConfidenceInterval(ToalPercentDroppedCalls8,t)\n",
    "ConfidenceIntervalBlocked8, meanBlocked8=calcConfidenceInterval(ToalPercentBlockedCalls8,t)\n",
    "ConfidenceIntervallTotalIncidents8, meanTotal8=calcConfidenceInterval(TotalPercentBlockedAndDropped8,t)"
   ]
  },
  {
   "cell_type": "markdown",
   "metadata": {},
   "source": [
    "#### FCA10 "
   ]
  },
  {
   "cell_type": "code",
   "execution_count": 48,
   "metadata": {},
   "outputs": [
    {
     "name": "stdout",
     "output_type": "stream",
     "text": [
      "Confidence Interval for dropped calls: [0.5184293047322447, 0.5935820862361804]\n",
      "Confidence Interval for blocked calls: [0.30668651398447, 0.34485324909635884]\n",
      "Confidence Interval for dropped and blocked calls: [0.8274567004499656, 0.9360944535992881]\n"
     ]
    }
   ],
   "source": [
    "print(\"Confidence Interval for dropped calls: \"+str(ConfidenceIntervalDropped10))\n",
    "print(\"Confidence Interval for blocked calls: \"+str(ConfidenceIntervalBlocked10))\n",
    "print(\"Confidence Interval for dropped and blocked calls: \"+str(ConfidenceIntervallTotalIncidents10))"
   ]
  },
  {
   "cell_type": "markdown",
   "metadata": {},
   "source": [
    "#### FCA9"
   ]
  },
  {
   "cell_type": "code",
   "execution_count": 49,
   "metadata": {},
   "outputs": [
    {
     "name": "stdout",
     "output_type": "stream",
     "text": [
      "Confidence Interval for dropped calls: [0.31539170859027493, 0.3608868143927652]\n",
      "Confidence Interval for blocked calls: [1.063944014694628, 1.126980532536468]\n",
      "Confidence Interval for dropped and blocked calls: [1.3982658333165858, 1.4689372368975504]\n"
     ]
    }
   ],
   "source": [
    "print(\"Confidence Interval for dropped calls: \"+str(ConfidenceIntervalDropped9))\n",
    "print(\"Confidence Interval for blocked calls: \"+str(ConfidenceIntervalBlocked9))\n",
    "print(\"Confidence Interval for dropped and blocked calls: \"+str(ConfidenceIntervallTotalIncidents9))"
   ]
  },
  {
   "cell_type": "markdown",
   "metadata": {},
   "source": [
    "#### FCA8"
   ]
  },
  {
   "cell_type": "code",
   "execution_count": 50,
   "metadata": {},
   "outputs": [
    {
     "name": "stdout",
     "output_type": "stream",
     "text": [
      "Confidence Interval for dropped calls: [0.16469675119825472, 0.20873496813455522]\n",
      "Confidence Interval for blocked calls: [2.629827654213221, 2.7775649395672515]\n",
      "Confidence Interval for dropped and blocked calls: [2.811677962435635, 2.9691463506776485]\n"
     ]
    }
   ],
   "source": [
    "print(\"Confidence Interval for dropped calls: \"+str(ConfidenceIntervalDropped8))\n",
    "print(\"Confidence Interval for blocked calls: \"+str(ConfidenceIntervalBlocked8))\n",
    "print(\"Confidence Interval for dropped and blocked calls: \"+str(ConfidenceIntervallTotalIncidents8))"
   ]
  },
  {
   "cell_type": "markdown",
   "metadata": {},
   "source": [
    "## Summary of simulation conclusions and recommendations"
   ]
  },
  {
   "cell_type": "markdown",
   "metadata": {},
   "source": [
    "+ FCA10 and FCA9 both fullfill the service requirements\n",
    "+ FCA 8 does not fullfill the requirements, since Blocked Calls > 2%\n",
    "\n",
    "### We now have to compare FCA10 against FCA9\n",
    "#### Paired-t confidence interval\n",
    "We calculate the 95% confidence interval with a statistical significants of a = 0.05 to give recommendations for the FCA scheme. We expect that with a properbility of 95%, our interval captures the true population parameter. With approximately 95% confidence, we can say which strategy is better."
   ]
  },
  {
   "cell_type": "code",
   "execution_count": 51,
   "metadata": {},
   "outputs": [],
   "source": [
    "t=2.262\n",
    "DiffrenceDropped = np.array(ToalPercentDroppedCalls10)-np.array(ToalPercentDroppedCalls9)\n",
    "ConfidenceIntervalDropped10_9, meanDropped10_9 = calcConfidenceInterval(DiffrenceDropped,t)\n",
    "\n",
    "DiffrenceBlocked = np.array(ToalPercentBlockedCalls10)-np.array(ToalPercentBlockedCalls9)\n",
    "ConfidenceIntervalBlocked10_9, meanBlocked10_9 = calcConfidenceInterval(DiffrenceBlocked,t)\n",
    "\n",
    "DiffrenceTotal = np.array(ConfidenceIntervallTotalIncidents10)-np.array(ConfidenceIntervallTotalIncidents9)\n",
    "ConfidenceIntervalTotal10_9, meanTotal10_9 = calcConfidenceInterval(DiffrenceTotal,t)"
   ]
  },
  {
   "cell_type": "code",
   "execution_count": 52,
   "metadata": {},
   "outputs": [
    {
     "name": "stdout",
     "output_type": "stream",
     "text": [
      "The amount of dropped calls decreases by 0.17487317549525777% - 0.26085969249012725% with FCA9)\n",
      "the amount of blocked calls increases by 0.8022793572366836% - 0.7371054269135834% with FCA9)\n",
      "In total there are between 0.571029283649415% - 0.5326226325154676% more calls blocked and dropped with FCA9\n"
     ]
    }
   ],
   "source": [
    "print(\"The amount of dropped calls decreases by {}% - {}% with FCA9)\".format(ConfidenceIntervalDropped10_9[0],\n",
    "                                                                             ConfidenceIntervalDropped10_9[1]))\n",
    "print(\"the amount of blocked calls increases by {}% - {}% with FCA9)\".format(abs(ConfidenceIntervalBlocked10_9[0]),\n",
    "                                                                            abs(ConfidenceIntervalBlocked10_9[1])))\n",
    "print(\"In total there are between {}% - {}% more calls blocked and dropped with FCA9\".format(abs(ConfidenceIntervalTotal10_9[0]),\n",
    "                                                                                            abs(ConfidenceIntervalTotal10_9[1])))"
   ]
  },
  {
   "cell_type": "markdown",
   "metadata": {},
   "source": [
    "##### The company has to decide between FCA10 and FCA9 depending on their policy\n",
    "+ **If we care more about dropped calls and can accept more blocked calls, we can use FCA9**\n",
    "+ **If we want to increase the overall performance of the system (less blocked and dropped calls) we should stay with FCA10**"
   ]
  }
 ],
 "metadata": {
  "kernelspec": {
   "display_name": "Python 3",
   "language": "python",
   "name": "python3"
  },
  "language_info": {
   "codemirror_mode": {
    "name": "ipython",
    "version": 3
   },
   "file_extension": ".py",
   "mimetype": "text/x-python",
   "name": "python",
   "nbconvert_exporter": "python",
   "pygments_lexer": "ipython3",
   "version": "3.7.4"
  }
 },
 "nbformat": 4,
 "nbformat_minor": 2
}
